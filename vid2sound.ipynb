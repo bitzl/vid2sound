{
 "cells": [
  {
   "cell_type": "markdown",
   "metadata": {},
   "source": [
    "Tests with Big Buck Bunny, 1920x1080 @ 30fps\n",
    "\n",
    "Download from http://bbb3d.renderfarming.net/download.html (263 MB)"
   ]
  },
  {
   "cell_type": "code",
   "execution_count": 34,
   "metadata": {},
   "outputs": [
    {
     "name": "stdout",
     "output_type": "stream",
     "text": [
      "Number of frames: 19036\n",
      "[0.00000000e+00 1.44544510e+08 4.76369290e+08 8.07642153e+08\n",
      " 1.13289006e+09 1.46367720e+09 1.46367212e+09 1.46228459e+09\n",
      " 1.46203074e+09 1.46325404e+09 1.46366205e+09 1.46368023e+09\n",
      " 1.46228354e+09 1.46172474e+09 1.46326079e+09 1.46366240e+09\n",
      " 1.46343901e+09 1.46266863e+09 1.46242260e+09 1.46343533e+09\n",
      " 1.46377850e+09 1.46365056e+09 1.46263730e+09 1.46268317e+09\n",
      " 1.46342067e+09 1.46356265e+09 1.46377038e+09 1.46379115e+09\n",
      " 1.46314170e+09 1.46198489e+09 1.46205234e+09 1.46301718e+09\n",
      " 1.46370505e+09 1.46381098e+09 1.46370268e+09 1.46300944e+09\n",
      " 1.46224251e+09 1.46183097e+09 1.46153988e+09 1.46152714e+09\n",
      " 1.46178035e+09 1.46224111e+09 1.46271941e+09 1.46319775e+09\n",
      " 1.46356356e+09 1.46374983e+09 1.46381049e+09 1.46383285e+09\n",
      " 1.46384274e+09 1.46384675e+09 1.46385043e+09 1.46384423e+09\n",
      " 1.46384447e+09 1.46384844e+09 1.46384533e+09 1.46384655e+09\n",
      " 1.46384370e+09 1.46384494e+09 1.46385443e+09 1.46386338e+09\n",
      " 1.46384937e+09 1.46380251e+09 1.46372774e+09 1.46363211e+09\n",
      " 1.46357017e+09 1.46354712e+09 1.46354231e+09 1.46356670e+09\n",
      " 1.46360916e+09 1.46365408e+09 1.46368587e+09 1.46372063e+09\n",
      " 1.46372982e+09 1.46374814e+09 1.46375283e+09 1.46376452e+09\n",
      " 1.46375714e+09 1.46377078e+09 1.46376404e+09 1.46376723e+09\n",
      " 1.46377849e+09 1.46377826e+09 1.46378199e+09 1.46377761e+09\n",
      " 1.46377900e+09 1.46378309e+09 1.46378392e+09 1.46378448e+09\n",
      " 1.46378454e+09 1.46378611e+09 1.46378602e+09 1.46378688e+09\n",
      " 1.46378644e+09 1.46378856e+09 1.46378855e+09 1.46378886e+09\n",
      " 1.46378905e+09 1.46379251e+09 1.46379749e+09 1.46378845e+09]\n",
      "Wall time: 6min 50s\n"
     ]
    }
   ],
   "source": [
    "%%time\n",
    "\n",
    "import numpy as np\n",
    "import cv2\n",
    "\n",
    "cap = cv2.VideoCapture('C:\\\\data\\\\bbb_sunflower_1080p_30fps_normal.mp4')\n",
    "\n",
    "length = int(cap.get(cv2.CAP_PROP_FRAME_COUNT))\n",
    "print('Number of frames:', length)\n",
    "\n",
    "out = np.zeros(length)\n",
    "\n",
    "for i in range(length):\n",
    "    ret, frame = cap.read()\n",
    "    if not ret:\n",
    "        print('Interrupted at frame', i)\n",
    "        break\n",
    "    out[i] = frame.sum()\n",
    "    \n",
    "cap.release()\n",
    "\n",
    "print(out[:100])"
   ]
  },
  {
   "cell_type": "code",
   "execution_count": 36,
   "metadata": {},
   "outputs": [],
   "source": [
    "np.save('sums.npy', out)"
   ]
  },
  {
   "cell_type": "code",
   "execution_count": null,
   "metadata": {},
   "outputs": [],
   "source": []
  }
 ],
 "metadata": {
  "kernelspec": {
   "display_name": "vid2sound",
   "language": "python",
   "name": "vid2sound"
  },
  "language_info": {
   "codemirror_mode": {
    "name": "ipython",
    "version": 3
   },
   "file_extension": ".py",
   "mimetype": "text/x-python",
   "name": "python",
   "nbconvert_exporter": "python",
   "pygments_lexer": "ipython3",
   "version": "3.6.5"
  }
 },
 "nbformat": 4,
 "nbformat_minor": 2
}
