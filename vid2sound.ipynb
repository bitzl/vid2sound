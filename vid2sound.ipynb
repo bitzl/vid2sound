{
 "cells": [
  {
   "cell_type": "markdown",
   "metadata": {},
   "source": [
    "Tests with Big Buck Bunny, 1920x1080 @ 30fps\n",
    "\n",
    "Download from http://bbb3d.renderfarming.net/download.html (263 MB)"
   ]
  },
  {
   "cell_type": "code",
   "execution_count": 4,
   "metadata": {},
   "outputs": [],
   "source": [
    "big_buck_bunny = 'C:\\\\data\\\\bbb_sunflower_1080p_30fps_normal.mp4'\n",
    "\n",
    "def frame2sum(frame):\n",
    "    return frame.sum()"
   ]
  },
  {
   "cell_type": "code",
   "execution_count": null,
   "metadata": {},
   "outputs": [
    {
     "name": "stdout",
     "output_type": "stream",
     "text": [
      "Number of frames: 19036\n"
     ]
    }
   ],
   "source": [
    "from vid2sound import video2array\n",
    "\n",
    "%time video2array(big_buck_bunny, frame2sum)"
   ]
  },
  {
   "cell_type": "code",
   "execution_count": null,
   "metadata": {},
   "outputs": [],
   "source": [
    "from vid2sound import video2array_async\n",
    "\n",
    "%time video2array_async(big_buck_bunny, frame2sum)"
   ]
  },
  {
   "cell_type": "code",
   "execution_count": null,
   "metadata": {},
   "outputs": [],
   "source": []
  }
 ],
 "metadata": {
  "kernelspec": {
   "display_name": "vid2sound",
   "language": "python",
   "name": "vid2sound"
  },
  "language_info": {
   "codemirror_mode": {
    "name": "ipython",
    "version": 3
   },
   "file_extension": ".py",
   "mimetype": "text/x-python",
   "name": "python",
   "nbconvert_exporter": "python",
   "pygments_lexer": "ipython3",
   "version": "3.6.5"
  }
 },
 "nbformat": 4,
 "nbformat_minor": 2
}
